{
 "cells": [
  {
   "cell_type": "markdown",
   "metadata": {},
   "source": [
    "## Feature Selection"
   ]
  },
  {
   "cell_type": "code",
   "execution_count": 8,
   "metadata": {},
   "outputs": [],
   "source": [
    "# DAL Library\n",
    "# version 2.1\n",
    "\n",
    "source(\"../dal_transform.R\")\n",
    "source(\"../dal_fit.R\")\n",
    "source(\"../dal_feature.R\")\n",
    "\n",
    "# needed for dal_feature\n",
    "loadlibrary(\"leaps\")  \n",
    "loadlibrary(\"glmnet\")\n",
    "loadlibrary(\"FSelector\")\n",
    "loadlibrary(\"doBy\")"
   ]
  },
  {
   "cell_type": "markdown",
   "metadata": {},
   "source": [
    "### Example\n",
    "General function for exploring feature selection methods\n"
   ]
  },
  {
   "cell_type": "code",
   "execution_count": 9,
   "metadata": {},
   "outputs": [],
   "source": [
    "iris <- datasets::iris"
   ]
  },
  {
   "cell_type": "markdown",
   "metadata": {},
   "source": [
    "### Lasso"
   ]
  },
  {
   "cell_type": "code",
   "execution_count": 10,
   "metadata": {},
   "outputs": [
    {
     "name": "stdout",
     "output_type": "stream",
     "text": [
      "[1] \"Sepal.Width\"  \"Petal.Length\" \"Petal.Width\" \n",
      "  Sepal.Width Petal.Length Petal.Width Species\n",
      "1         3.5          1.4         0.2  setosa\n",
      "2         3.0          1.4         0.2  setosa\n",
      "3         3.2          1.3         0.2  setosa\n",
      "4         3.1          1.5         0.2  setosa\n",
      "5         3.6          1.4         0.2  setosa\n",
      "6         3.9          1.7         0.4  setosa\n"
     ]
    }
   ],
   "source": [
    "myfeature <- fit(feature_selection_lasso(\"Species\"), iris)\n",
    "print(myfeature$features)\n",
    "data <- transform(myfeature, iris)\n",
    "print(head(data))"
   ]
  },
  {
   "cell_type": "markdown",
   "metadata": {},
   "source": [
    "### FSS"
   ]
  },
  {
   "cell_type": "code",
   "execution_count": 11,
   "metadata": {},
   "outputs": [
    {
     "name": "stdout",
     "output_type": "stream",
     "text": [
      "[1] \"Sepal.Length\" \"Petal.Length\" \"Petal.Width\" \n",
      "  Sepal.Length Petal.Length Petal.Width Species\n",
      "1          5.1          1.4         0.2  setosa\n",
      "2          4.9          1.4         0.2  setosa\n",
      "3          4.7          1.3         0.2  setosa\n",
      "4          4.6          1.5         0.2  setosa\n",
      "5          5.0          1.4         0.2  setosa\n",
      "6          5.4          1.7         0.4  setosa\n"
     ]
    }
   ],
   "source": [
    "myfeature <- fit(feature_selection_fss(\"Species\"), iris)\n",
    "print(myfeature$features)\n",
    "data <- transform(myfeature, iris)\n",
    "print(head(data))"
   ]
  },
  {
   "cell_type": "markdown",
   "metadata": {},
   "source": [
    "### IG\n"
   ]
  },
  {
   "cell_type": "code",
   "execution_count": 12,
   "metadata": {},
   "outputs": [
    {
     "name": "stdout",
     "output_type": "stream",
     "text": [
      "[1] \"Petal.Width\"  \"Petal.Length\"\n",
      "  Petal.Width Petal.Length Species\n",
      "1         0.2          1.4  setosa\n",
      "2         0.2          1.4  setosa\n",
      "3         0.2          1.3  setosa\n",
      "4         0.2          1.5  setosa\n",
      "5         0.2          1.4  setosa\n",
      "6         0.4          1.7  setosa\n"
     ]
    }
   ],
   "source": [
    "myfeature <- fit(feature_selection_ig(\"Species\"), iris)\n",
    "print(myfeature$features)\n",
    "data <- transform(myfeature, iris)\n",
    "print(head(data))"
   ]
  },
  {
   "cell_type": "markdown",
   "metadata": {},
   "source": [
    "### Relief"
   ]
  },
  {
   "cell_type": "code",
   "execution_count": 13,
   "metadata": {},
   "outputs": [
    {
     "name": "stdout",
     "output_type": "stream",
     "text": [
      "[1] \"Petal.Length\" \"Petal.Width\" \n",
      "  Petal.Length Petal.Width Species\n",
      "1          1.4         0.2  setosa\n",
      "2          1.4         0.2  setosa\n",
      "3          1.3         0.2  setosa\n",
      "4          1.5         0.2  setosa\n",
      "5          1.4         0.2  setosa\n",
      "6          1.7         0.4  setosa\n"
     ]
    }
   ],
   "source": [
    "myfeature <- fit(feature_selection_relief(\"Species\"), iris)\n",
    "print(myfeature$features)\n",
    "data <- transform(myfeature, iris)\n",
    "print(head(data))"
   ]
  },
  {
   "cell_type": "code",
   "execution_count": null,
   "metadata": {},
   "outputs": [],
   "source": []
  }
 ],
 "metadata": {
  "kernelspec": {
   "display_name": "R",
   "language": "R",
   "name": "ir"
  },
  "language_info": {
   "codemirror_mode": "r",
   "file_extension": ".r",
   "mimetype": "text/x-r-source",
   "name": "R",
   "pygments_lexer": "r",
   "version": "4.2.2"
  }
 },
 "nbformat": 4,
 "nbformat_minor": 2
}
