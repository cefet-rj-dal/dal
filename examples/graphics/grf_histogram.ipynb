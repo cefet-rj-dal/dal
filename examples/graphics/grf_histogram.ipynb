{
 "cells": [
  {
   "cell_type": "code",
   "execution_count": 1,
   "metadata": {},
   "outputs": [
    {
     "name": "stderr",
     "output_type": "stream",
     "text": [
      "Loading required package: dal\n",
      "\n",
      "\n",
      "Attaching package: ‘dal’\n",
      "\n",
      "\n",
      "The following object is masked from ‘package:stats’:\n",
      "\n",
      "    optimize\n",
      "\n",
      "\n",
      "The following objects are masked from ‘package:base’:\n",
      "\n",
      "    jitter, transform\n",
      "\n",
      "\n",
      "Loading required package: ggplot2\n",
      "\n",
      "Loading required package: dplyr\n",
      "\n",
      "\n",
      "Attaching package: ‘dplyr’\n",
      "\n",
      "\n",
      "The following objects are masked from ‘package:stats’:\n",
      "\n",
      "    filter, lag\n",
      "\n",
      "\n",
      "The following objects are masked from ‘package:base’:\n",
      "\n",
      "    intersect, setdiff, setequal, union\n",
      "\n",
      "\n",
      "Loading required package: reshape\n",
      "\n",
      "\n",
      "Attaching package: ‘reshape’\n",
      "\n",
      "\n",
      "The following object is masked from ‘package:dplyr’:\n",
      "\n",
      "    rename\n",
      "\n",
      "\n",
      "Loading required package: RColorBrewer\n",
      "\n"
     ]
    }
   ],
   "source": [
    "# DAL Library\n",
    "# version 2.1\n",
    "\n",
    "source(\"../examples.R\")\n",
    "source(\"../graphics.R\")\n",
    "\n",
    "\n",
    "#loading DAL\n",
    "load_dal() # see ../examples.R \n",
    "\n",
    "loadlibrary(\"ggplot2\")\n",
    "loadlibrary(\"dplyr\")\n",
    "loadlibrary(\"reshape\")\n",
    "loadlibrary(\"RColorBrewer\")"
   ]
  },
  {
   "cell_type": "code",
   "execution_count": 2,
   "metadata": {},
   "outputs": [],
   "source": [
    "#color palette\n",
    "colors <- brewer.pal(4, 'Set1')\n",
    "\n",
    "# setting the font size for all charts\n",
    "font <- theme(text = element_text(size=16))"
   ]
  },
  {
   "cell_type": "markdown",
   "metadata": {},
   "source": [
    "## Examples using data distribution\n",
    "The following examples use random variables so that different data distribution can be better viewed."
   ]
  },
  {
   "cell_type": "code",
   "execution_count": 3,
   "metadata": {},
   "outputs": [
    {
     "data": {
      "text/html": [
       "<table class=\"dataframe\">\n",
       "<caption>A data.frame: 6 × 3</caption>\n",
       "<thead>\n",
       "\t<tr><th></th><th scope=col>exponential</th><th scope=col>uniform</th><th scope=col>normal</th></tr>\n",
       "\t<tr><th></th><th scope=col>&lt;dbl&gt;</th><th scope=col>&lt;dbl&gt;</th><th scope=col>&lt;dbl&gt;</th></tr>\n",
       "</thead>\n",
       "<tbody>\n",
       "\t<tr><th scope=row>1</th><td>1.43652239</td><td>3.250528</td><td>5.228910</td></tr>\n",
       "\t<tr><th scope=row>2</th><td>0.49648170</td><td>2.918809</td><td>4.754399</td></tr>\n",
       "\t<tr><th scope=row>3</th><td>1.67367388</td><td>3.303971</td><td>6.695538</td></tr>\n",
       "\t<tr><th scope=row>4</th><td>1.89470593</td><td>3.435081</td><td>4.491828</td></tr>\n",
       "\t<tr><th scope=row>5</th><td>1.42671757</td><td>2.730096</td><td>5.088538</td></tr>\n",
       "\t<tr><th scope=row>6</th><td>0.06425827</td><td>3.333478</td><td>5.864685</td></tr>\n",
       "</tbody>\n",
       "</table>\n"
      ],
      "text/latex": [
       "A data.frame: 6 × 3\n",
       "\\begin{tabular}{r|lll}\n",
       "  & exponential & uniform & normal\\\\\n",
       "  & <dbl> & <dbl> & <dbl>\\\\\n",
       "\\hline\n",
       "\t1 & 1.43652239 & 3.250528 & 5.228910\\\\\n",
       "\t2 & 0.49648170 & 2.918809 & 4.754399\\\\\n",
       "\t3 & 1.67367388 & 3.303971 & 6.695538\\\\\n",
       "\t4 & 1.89470593 & 3.435081 & 4.491828\\\\\n",
       "\t5 & 1.42671757 & 2.730096 & 5.088538\\\\\n",
       "\t6 & 0.06425827 & 3.333478 & 5.864685\\\\\n",
       "\\end{tabular}\n"
      ],
      "text/markdown": [
       "\n",
       "A data.frame: 6 × 3\n",
       "\n",
       "| <!--/--> | exponential &lt;dbl&gt; | uniform &lt;dbl&gt; | normal &lt;dbl&gt; |\n",
       "|---|---|---|---|\n",
       "| 1 | 1.43652239 | 3.250528 | 5.228910 |\n",
       "| 2 | 0.49648170 | 2.918809 | 4.754399 |\n",
       "| 3 | 1.67367388 | 3.303971 | 6.695538 |\n",
       "| 4 | 1.89470593 | 3.435081 | 4.491828 |\n",
       "| 5 | 1.42671757 | 2.730096 | 5.088538 |\n",
       "| 6 | 0.06425827 | 3.333478 | 5.864685 |\n",
       "\n"
      ],
      "text/plain": [
       "  exponential uniform  normal  \n",
       "1 1.43652239  3.250528 5.228910\n",
       "2 0.49648170  2.918809 4.754399\n",
       "3 1.67367388  3.303971 6.695538\n",
       "4 1.89470593  3.435081 4.491828\n",
       "5 1.42671757  2.730096 5.088538\n",
       "6 0.06425827  3.333478 5.864685"
      ]
     },
     "metadata": {},
     "output_type": "display_data"
    }
   ],
   "source": [
    "# example: dataset to be plotted  \n",
    "example <- data.frame(exponential = rexp(100000, rate = 1), \n",
    "                     uniform = runif(100000, min = 2.5, max = 3.5), \n",
    "                     normal = rnorm(100000, mean=5))\n",
    "head(example)"
   ]
  },
  {
   "cell_type": "markdown",
   "metadata": {},
   "source": [
    "## Histogram\n",
    "\n",
    "Visualize the distribution of a single continuous variable by dividing the x axis into bins and counting the number of observations in each bin. Histograms (geom_histogram()) display the counts with bars.\n",
    "More information: ?geom_histogram (R documentation)"
   ]
  },
  {
   "cell_type": "code",
   "execution_count": 4,
   "metadata": {},
   "outputs": [
    {
     "name": "stderr",
     "output_type": "stream",
     "text": [
      "Using  as id variables\n",
      "\n"
     ]
    },
    {
     "data": {
      "image/png": "[encoded data removed]",
      "text/plain": [
       "plot without title"
      ]
     },
     "metadata": {
      "image/png": {
       "height": 240,
       "width": 300
      }
     },
     "output_type": "display_data"
    }
   ],
   "source": [
    "grf <- plot.hist(example %>% select(exponential), \n",
    "                  label_x = \"exponential\", color=colors[1]) + font\n",
    "plot.size(5, 4)\n",
    "plot(grf)"
   ]
  },
  {
   "cell_type": "markdown",
   "metadata": {},
   "source": [
    "## Arrangement of graphs\n",
    "\n",
    "Function $grid.arrange$ is used to position previously computed charts"
   ]
  },
  {
   "cell_type": "code",
   "execution_count": 5,
   "metadata": {},
   "outputs": [
    {
     "name": "stderr",
     "output_type": "stream",
     "text": [
      "Using  as id variables\n",
      "\n",
      "Using  as id variables\n",
      "\n",
      "Using  as id variables\n",
      "\n"
     ]
    }
   ],
   "source": [
    "grfe <- plot.hist(example %>% select(exponential), \n",
    "                  label_x = \"exponential\", color=colors[1]) + font\n",
    "grfu <- plot.hist(example %>% select(uniform), \n",
    "                  label_x = \"uniform\", color=colors[1]) + font  \n",
    "grfn <- plot.hist(example %>% select(normal), \n",
    "                  label_x = \"normal\", color=colors[1]) + font "
   ]
  },
  {
   "cell_type": "code",
   "execution_count": 6,
   "metadata": {},
   "outputs": [
    {
     "name": "stderr",
     "output_type": "stream",
     "text": [
      "Loading required package: gridExtra\n",
      "\n",
      "\n",
      "Attaching package: ‘gridExtra’\n",
      "\n",
      "\n",
      "The following object is masked from ‘package:dplyr’:\n",
      "\n",
      "    combine\n",
      "\n",
      "\n"
     ]
    },
    {
     "data": {
      "image/png": "[encoded data removed]",
      "text/plain": [
       "plot without title"
      ]
     },
     "metadata": {
      "image/png": {
       "height": 240,
       "width": 900
      }
     },
     "output_type": "display_data"
    }
   ],
   "source": [
    "loadlibrary(\"gridExtra\") \n",
    "plot.size(15, 4)\n",
    "grid.arrange(grfe, grfu, grfn, ncol=3)"
   ]
  },
  {
   "cell_type": "code",
   "execution_count": null,
   "metadata": {},
   "outputs": [],
   "source": []
  }
 ],
 "metadata": {
  "kernelspec": {
   "display_name": "R",
   "language": "R",
   "name": "ir"
  },
  "language_info": {
   "codemirror_mode": "r",
   "file_extension": ".r",
   "mimetype": "text/x-r-source",
   "name": "R",
   "pygments_lexer": "r",
   "version": "4.2.2"
  }
 },
 "nbformat": 4,
 "nbformat_minor": 2
}
