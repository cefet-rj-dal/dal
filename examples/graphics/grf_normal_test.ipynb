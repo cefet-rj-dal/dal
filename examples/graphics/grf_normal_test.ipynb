{
 "cells": [
  {
   "cell_type": "code",
   "execution_count": 1,
   "metadata": {},
   "outputs": [
    {
     "name": "stderr",
     "output_type": "stream",
     "text": [
      "Loading required package: dal\n",
      "\n",
      "Warning message:\n",
      "“replacing previous import ‘FNN::knn.cv’ by ‘class::knn.cv’ when loading ‘dal’”\n",
      "Warning message:\n",
      "“replacing previous import ‘FNN::knn’ by ‘class::knn’ when loading ‘dal’”\n",
      "Registered S3 method overwritten by 'quantmod':\n",
      "  method            from\n",
      "  as.zoo.data.frame zoo \n",
      "\n",
      "Warning message:\n",
      "“replacing previous import ‘dplyr::combine’ by ‘randomForest::combine’ when loading ‘dal’”\n",
      "Warning message:\n",
      "“replacing previous import ‘Matrix::cov2cor’ by ‘stats::cov2cor’ when loading ‘dal’”\n",
      "Warning message:\n",
      "“replacing previous import ‘dplyr::filter’ by ‘stats::filter’ when loading ‘dal’”\n",
      "Warning message:\n",
      "“replacing previous import ‘dplyr::lag’ by ‘stats::lag’ when loading ‘dal’”\n",
      "Warning message:\n",
      "“replacing previous import ‘Matrix::toeplitz’ by ‘stats::toeplitz’ when loading ‘dal’”\n",
      "Warning message:\n",
      "“replacing previous import ‘Matrix::update’ by ‘stats::update’ when loading ‘dal’”\n",
      "\n",
      "Attaching package: ‘dal’\n",
      "\n",
      "\n",
      "The following object is masked from ‘package:stats’:\n",
      "\n",
      "    optimize\n",
      "\n",
      "\n",
      "The following object is masked from ‘package:utils’:\n",
      "\n",
      "    head\n",
      "\n",
      "\n",
      "The following objects are masked from ‘package:base’:\n",
      "\n",
      "    jitter, transform\n",
      "\n",
      "\n",
      "Loading required package: ggplot2\n",
      "\n",
      "Loading required package: dplyr\n",
      "\n",
      "\n",
      "Attaching package: ‘dplyr’\n",
      "\n",
      "\n",
      "The following objects are masked from ‘package:stats’:\n",
      "\n",
      "    filter, lag\n",
      "\n",
      "\n",
      "The following objects are masked from ‘package:base’:\n",
      "\n",
      "    intersect, setdiff, setequal, union\n",
      "\n",
      "\n",
      "Loading required package: reshape\n",
      "\n",
      "\n",
      "Attaching package: ‘reshape’\n",
      "\n",
      "\n",
      "The following object is masked from ‘package:dplyr’:\n",
      "\n",
      "    rename\n",
      "\n",
      "\n",
      "Loading required package: RColorBrewer\n",
      "\n"
     ]
    }
   ],
   "source": [
    "# DAL Library\n",
    "# version 2.1\n",
    "\n",
    "source(\"../examples.R\")\n",
    "source(\"../graphics.R\")\n",
    "\n",
    "\n",
    "#loading DAL\n",
    "load_dal() # see ../examples.R \n",
    "\n",
    "loadlibrary(\"ggplot2\")\n",
    "loadlibrary(\"dplyr\")\n",
    "loadlibrary(\"reshape\")\n",
    "loadlibrary(\"RColorBrewer\")"
   ]
  },
  {
   "cell_type": "code",
   "execution_count": 2,
   "metadata": {},
   "outputs": [],
   "source": [
    "#color palette\n",
    "colors <- brewer.pal(4, 'Set1')\n",
    "\n",
    "# setting the font size for all charts\n",
    "font <- theme(text = element_text(size=16))"
   ]
  },
  {
   "cell_type": "markdown",
   "metadata": {},
   "source": [
    "## Examples using data distribution\n",
    "The following examples use random variables so that different data distribution can be better viewed."
   ]
  },
  {
   "cell_type": "code",
   "execution_count": 3,
   "metadata": {},
   "outputs": [
    {
     "data": {
      "text/html": [
       "<table class=\"dataframe\">\n",
       "<caption>A data.frame: 6 × 3</caption>\n",
       "<thead>\n",
       "\t<tr><th></th><th scope=col>exponential</th><th scope=col>uniform</th><th scope=col>normal</th></tr>\n",
       "\t<tr><th></th><th scope=col>&lt;dbl&gt;</th><th scope=col>&lt;dbl&gt;</th><th scope=col>&lt;dbl&gt;</th></tr>\n",
       "</thead>\n",
       "<tbody>\n",
       "\t<tr><th scope=row>1</th><td>1.8731212</td><td>3.333798</td><td>4.182980</td></tr>\n",
       "\t<tr><th scope=row>2</th><td>0.6065452</td><td>2.888032</td><td>5.456104</td></tr>\n",
       "\t<tr><th scope=row>3</th><td>2.3990736</td><td>3.317322</td><td>3.897676</td></tr>\n",
       "\t<tr><th scope=row>4</th><td>0.4473743</td><td>2.607068</td><td>4.003063</td></tr>\n",
       "\t<tr><th scope=row>5</th><td>0.3891759</td><td>3.146636</td><td>4.202843</td></tr>\n",
       "\t<tr><th scope=row>6</th><td>3.3352816</td><td>2.567773</td><td>4.561811</td></tr>\n",
       "</tbody>\n",
       "</table>\n"
      ],
      "text/latex": [
       "A data.frame: 6 × 3\n",
       "\\begin{tabular}{r|lll}\n",
       "  & exponential & uniform & normal\\\\\n",
       "  & <dbl> & <dbl> & <dbl>\\\\\n",
       "\\hline\n",
       "\t1 & 1.8731212 & 3.333798 & 4.182980\\\\\n",
       "\t2 & 0.6065452 & 2.888032 & 5.456104\\\\\n",
       "\t3 & 2.3990736 & 3.317322 & 3.897676\\\\\n",
       "\t4 & 0.4473743 & 2.607068 & 4.003063\\\\\n",
       "\t5 & 0.3891759 & 3.146636 & 4.202843\\\\\n",
       "\t6 & 3.3352816 & 2.567773 & 4.561811\\\\\n",
       "\\end{tabular}\n"
      ],
      "text/markdown": [
       "\n",
       "A data.frame: 6 × 3\n",
       "\n",
       "| <!--/--> | exponential &lt;dbl&gt; | uniform &lt;dbl&gt; | normal &lt;dbl&gt; |\n",
       "|---|---|---|---|\n",
       "| 1 | 1.8731212 | 3.333798 | 4.182980 |\n",
       "| 2 | 0.6065452 | 2.888032 | 5.456104 |\n",
       "| 3 | 2.3990736 | 3.317322 | 3.897676 |\n",
       "| 4 | 0.4473743 | 2.607068 | 4.003063 |\n",
       "| 5 | 0.3891759 | 3.146636 | 4.202843 |\n",
       "| 6 | 3.3352816 | 2.567773 | 4.561811 |\n",
       "\n"
      ],
      "text/plain": [
       "  exponential uniform  normal  \n",
       "1 1.8731212   3.333798 4.182980\n",
       "2 0.6065452   2.888032 5.456104\n",
       "3 2.3990736   3.317322 3.897676\n",
       "4 0.4473743   2.607068 4.003063\n",
       "5 0.3891759   3.146636 4.202843\n",
       "6 3.3352816   2.567773 4.561811"
      ]
     },
     "metadata": {},
     "output_type": "display_data"
    }
   ],
   "source": [
    "# example4: dataset to be plotted  \n",
    "example <- data.frame(exponential = rexp(100000, rate = 1), \n",
    "                     uniform = runif(100000, min = 2.5, max = 3.5), \n",
    "                     normal = rnorm(100000, mean=5))\n",
    "head(example)"
   ]
  },
  {
   "cell_type": "markdown",
   "metadata": {},
   "source": [
    "## Comparing distribution with normal distribution\n",
    "\n",
    "$stat\\_qq()$ produce quantile-quantile plots comparing sample distributions with standard normal distribution.\n",
    "\n",
    "More information: ?stat_qq (R documentation)"
   ]
  },
  {
   "cell_type": "code",
   "execution_count": 4,
   "metadata": {},
   "outputs": [
    {
     "data": {
      "image/png": "[encoded data removed]",
      "text/plain": [
       "plot without title"
      ]
     },
     "metadata": {
      "image/png": {
       "height": 420,
       "width": 420
      }
     },
     "output_type": "display_data"
    }
   ],
   "source": [
    "  grf <- plot.norm_dist(example$exponential, colors=colors[1]) + font\n",
    "  plot(grf)"
   ]
  },
  {
   "cell_type": "code",
   "execution_count": null,
   "metadata": {},
   "outputs": [],
   "source": []
  }
 ],
 "metadata": {
  "kernelspec": {
   "display_name": "R",
   "language": "R",
   "name": "ir"
  },
  "language_info": {
   "codemirror_mode": "r",
   "file_extension": ".r",
   "mimetype": "text/x-r-source",
   "name": "R",
   "pygments_lexer": "r",
   "version": "4.2.2"
  }
 },
 "nbformat": 4,
 "nbformat_minor": 2
}
