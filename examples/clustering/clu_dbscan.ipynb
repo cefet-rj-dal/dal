{
 "cells": [
  {
   "cell_type": "markdown",
   "metadata": {},
   "source": [
    "# Clustering - dbscan\n",
    "## Libraries and Datasets\n"
   ]
  },
  {
   "cell_type": "code",
   "execution_count": 1,
   "metadata": {},
   "outputs": [
    {
     "name": "stderr",
     "output_type": "stream",
     "text": [
      "Loading required package: dplyr\n",
      "\n",
      "\n",
      "Attaching package: ‘dplyr’\n",
      "\n",
      "\n",
      "The following objects are masked from ‘package:stats’:\n",
      "\n",
      "    filter, lag\n",
      "\n",
      "\n",
      "The following objects are masked from ‘package:base’:\n",
      "\n",
      "    intersect, setdiff, setequal, union\n",
      "\n",
      "\n",
      "Loading required package: fpc\n",
      "\n",
      "Loading required package: Rcpp\n",
      "\n",
      "Loading required package: dbscan\n",
      "\n",
      "\n",
      "Attaching package: ‘dbscan’\n",
      "\n",
      "\n",
      "The following object is masked from ‘package:fpc’:\n",
      "\n",
      "    dbscan\n",
      "\n",
      "\n",
      "The following object is masked from ‘package:stats’:\n",
      "\n",
      "    as.dendrogram\n",
      "\n",
      "\n"
     ]
    }
   ],
   "source": [
    "# DAL Library\n",
    "# version 2.1\n",
    "\n",
    "source(\"../dal_transform.R\")\n",
    "source(\"../dal_fit.R\")\n",
    "source(\"../dal_normalization.R\")\n",
    "source(\"../clu_clustering.R\")\n",
    "source(\"../clu_dbscan.R\")\n",
    "\n",
    "#needed for clu_clustering.R\n",
    "loadlibrary(\"dplyr\")\n",
    "\n",
    "#needed for clu_dbscan.R\n",
    "loadlibrary(\"fpc\")\n",
    "loadlibrary(\"Rcpp\")\n",
    "loadlibrary(\"dbscan\")"
   ]
  },
  {
   "cell_type": "code",
   "execution_count": 2,
   "metadata": {},
   "outputs": [],
   "source": [
    "iris <- datasets::iris"
   ]
  },
  {
   "cell_type": "markdown",
   "metadata": {},
   "source": [
    "General entropy of dataset"
   ]
  },
  {
   "cell_type": "code",
   "execution_count": 3,
   "metadata": {},
   "outputs": [
    {
     "name": "stdout",
     "output_type": "stream",
     "text": [
      "[1] 1.584963\n"
     ]
    }
   ],
   "source": [
    "eval <- cluster_evaluation(rep(1, nrow(iris)), iris$Species)\n",
    "print(eval$entropy)"
   ]
  },
  {
   "cell_type": "markdown",
   "metadata": {},
   "source": [
    "## General function to test clustering methods"
   ]
  },
  {
   "cell_type": "code",
   "execution_count": 4,
   "metadata": {},
   "outputs": [],
   "source": [
    "test_clustering <- function(model, data, attribute, opt=FALSE) {\n",
    "  describe(model)\n",
    "  if (opt) \n",
    "    model <- optimize(model, data)    \n",
    "  clu <- fit(model, data)\n",
    "  print(table(clu))\n",
    "  eval <- cluster_evaluation(clu, attribute)\n",
    "  print(eval$entropy)\n",
    "}"
   ]
  },
  {
   "cell_type": "code",
   "execution_count": 5,
   "metadata": {},
   "outputs": [
    {
     "name": "stdout",
     "output_type": "stream",
     "text": [
      "clu\n",
      " 0  1  2  3  4 \n",
      "22 47 39  4 38 \n",
      "[1] 0.2792713\n"
     ]
    }
   ],
   "source": [
    "# dbscan\n",
    "test_clustering(cluster_dbscan(eps = 0.4, MinPts = 3), iris[,1:4], iris[,5])"
   ]
  },
  {
   "cell_type": "code",
   "execution_count": 6,
   "metadata": {},
   "outputs": [
    {
     "name": "stdout",
     "output_type": "stream",
     "text": [
      "clu\n",
      " 0  1  2  3  4 \n",
      "26 47 38  4 35 \n",
      "[1] 0.3037218\n"
     ]
    }
   ],
   "source": [
    "test_clustering(cluster_dbscan(eps = NULL, MinPts = 3), iris[,1:4], iris[,5], TRUE)"
   ]
  },
  {
   "cell_type": "markdown",
   "metadata": {},
   "source": [
    "## Influence of normalization in clustering"
   ]
  },
  {
   "cell_type": "code",
   "execution_count": 7,
   "metadata": {},
   "outputs": [
    {
     "name": "stdout",
     "output_type": "stream",
     "text": [
      "clu\n",
      " 0  1  2  3  4  5  6 \n",
      "25 44 67  3  3  4  4 \n",
      "[1] 0.6753005\n"
     ]
    }
   ],
   "source": [
    "norm_minmax <- fit(minmax(), iris)\n",
    "iris_minmax <- transform(norm_minmax, iris)\n",
    "# dbscan optimized\n",
    "test_clustering(cluster_dbscan(eps = NULL, MinPts = 3), iris_minmax[,1:4], iris_minmax[,5], TRUE)"
   ]
  },
  {
   "cell_type": "code",
   "execution_count": null,
   "metadata": {},
   "outputs": [],
   "source": []
  }
 ],
 "metadata": {
  "kernelspec": {
   "display_name": "R",
   "language": "R",
   "name": "ir"
  },
  "language_info": {
   "codemirror_mode": "r",
   "file_extension": ".r",
   "mimetype": "text/x-r-source",
   "name": "R",
   "pygments_lexer": "r",
   "version": "4.2.2"
  }
 },
 "nbformat": 4,
 "nbformat_minor": 2
}
